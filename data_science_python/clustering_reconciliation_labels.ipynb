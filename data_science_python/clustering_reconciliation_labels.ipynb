{
 "cells": [
  {
   "cell_type": "code",
   "execution_count": 1,
   "metadata": {},
   "outputs": [],
   "source": [
    "import pandas as pd\n",
    "import numpy as np"
   ]
  },
  {
   "cell_type": "code",
   "execution_count": 2,
   "metadata": {},
   "outputs": [
    {
     "name": "stdout",
     "output_type": "stream",
     "text": [
      "Collecting levenshtein\n",
      "  Downloading Levenshtein-0.25.0-cp39-cp39-win_amd64.whl (98 kB)\n",
      "     -------------------------------------- 98.6/98.6 kB 803.3 kB/s eta 0:00:00\n",
      "Collecting rapidfuzz<4.0.0,>=3.1.0\n",
      "  Downloading rapidfuzz-3.6.1-cp39-cp39-win_amd64.whl (1.6 MB)\n",
      "     ---------------------------------------- 1.6/1.6 MB 188.9 kB/s eta 0:00:00\n",
      "Installing collected packages: rapidfuzz, levenshtein\n",
      "  Attempting uninstall: rapidfuzz\n",
      "    Found existing installation: rapidfuzz 2.13.7\n",
      "    Uninstalling rapidfuzz-2.13.7:\n",
      "      Successfully uninstalled rapidfuzz-2.13.7\n",
      "Successfully installed levenshtein-0.25.0 rapidfuzz-3.6.1\n"
     ]
    },
    {
     "name": "stderr",
     "output_type": "stream",
     "text": [
      "WARNING: Ignoring invalid distribution -rotobuf (c:\\python\\python3_9\\lib\\site-packages)\n",
      "WARNING: Ignoring invalid distribution -rotobuf (c:\\python\\python3_9\\lib\\site-packages)\n",
      "WARNING: Ignoring invalid distribution -rotobuf (c:\\python\\python3_9\\lib\\site-packages)\n",
      "    WARNING: Ignoring invalid distribution -rotobuf (c:\\python\\python3_9\\lib\\site-packages)\n",
      "WARNING: Ignoring invalid distribution -rotobuf (c:\\python\\python3_9\\lib\\site-packages)\n",
      "WARNING: Ignoring invalid distribution -rotobuf (c:\\python\\python3_9\\lib\\site-packages)\n",
      "WARNING: Ignoring invalid distribution -rotobuf (c:\\python\\python3_9\\lib\\site-packages)\n",
      "WARNING: Ignoring invalid distribution -rotobuf (c:\\python\\python3_9\\lib\\site-packages)\n",
      "WARNING: Ignoring invalid distribution -rotobuf (c:\\python\\python3_9\\lib\\site-packages)\n",
      "WARNING: There was an error checking the latest version of pip.\n"
     ]
    }
   ],
   "source": [
    "#https://rapidfuzz.github.io/Levenshtein/levenshtein.html\n",
    "# there are several versions of levenshtein library, Be aware.\n",
    "!pip install levenshtein"
   ]
  },
  {
   "cell_type": "code",
   "execution_count": 2,
   "metadata": {},
   "outputs": [
    {
     "data": {
      "text/plain": [
       "2"
      ]
     },
     "execution_count": 2,
     "metadata": {},
     "output_type": "execute_result"
    }
   ],
   "source": [
    "from Levenshtein import distance\n",
    "\n",
    "distance(\"lewenstein\", \"levenshtein\")"
   ]
  },
  {
   "cell_type": "code",
   "execution_count": 3,
   "metadata": {},
   "outputs": [
    {
     "data": {
      "text/plain": [
       "0.8571428571428572"
      ]
     },
     "execution_count": 3,
     "metadata": {},
     "output_type": "execute_result"
    }
   ],
   "source": [
    "from Levenshtein import ratio\n",
    "\n",
    "ratio(\"lewenstein\", \"levenshtein\")"
   ]
  },
  {
   "cell_type": "markdown",
   "metadata": {},
   "source": [
    "# Matrix method"
   ]
  },
  {
   "attachments": {},
   "cell_type": "markdown",
   "metadata": {},
   "source": [
    "Can be done all at once but it is very conputational heavy and not suitable for large amounts of categories"
   ]
  },
  {
   "cell_type": "code",
   "execution_count": 4,
   "metadata": {},
   "outputs": [
    {
     "data": {
      "text/plain": [
       "array([[0.   , 0.   , 0.857, 0.   , 0.   ],\n",
       "       [0.   , 0.   , 0.   , 0.857, 0.857],\n",
       "       [0.   , 0.   , 0.   , 0.   , 0.   ],\n",
       "       [0.   , 0.   , 0.   , 0.   , 0.75 ],\n",
       "       [0.   , 0.   , 0.   , 0.   , 0.   ]], dtype=float16)"
      ]
     },
     "execution_count": 4,
     "metadata": {},
     "output_type": "execute_result"
    }
   ],
   "source": [
    "# concept:\n",
    "\n",
    "labels = [\"aaa\", \"bbb\", \"aaac\", \"bbbb\", \"bbb \"]\n",
    "matrix_dist = np.zeros((len(labels), len(labels),), dtype=np.float16)\n",
    "\n",
    "similar = {}\n",
    "\n",
    "for nx, x in enumerate(labels):\n",
    "        for ny, y in enumerate(labels):\n",
    "            if ny>nx:\n",
    "                r = ratio(x, y)\n",
    "                matrix_dist[nx][ny] = r\n",
    "                if r>=0.8:\n",
    "                    similar[x] = [y] + similar.get(x, [])\n",
    "\n",
    "            \n",
    "matrix_dist"
   ]
  },
  {
   "cell_type": "code",
   "execution_count": 5,
   "metadata": {},
   "outputs": [
    {
     "data": {
      "text/plain": [
       "array([[0.   , 0.   , 0.857, 0.   , 0.   ],\n",
       "       [0.   , 0.   , 0.   , 0.857, 0.857],\n",
       "       [0.   , 0.   , 0.   , 0.   , 0.   ],\n",
       "       [0.   , 0.   , 0.   , 0.   , 0.75 ],\n",
       "       [0.   , 0.   , 0.   , 0.   , 0.   ]], dtype=float16)"
      ]
     },
     "execution_count": 5,
     "metadata": {},
     "output_type": "execute_result"
    }
   ],
   "source": [
    "matrix_dist = np.zeros((len(labels), len(labels),), dtype=np.float16)\n",
    "\n",
    "similar = {}\n",
    "indexs_captured = set()\n",
    "\n",
    "for nx in range(len(labels)):\n",
    "        for ny in range(nx+1, len(labels)):\n",
    "            r = ratio(labels[nx], labels[ny])\n",
    "            matrix_dist[nx][ny] = r\n",
    "            if r>=0.8 and ny not in indexs_captured:\n",
    "                similar[labels[nx]] = [labels[ny]] + similar.get(labels[nx], [])\n",
    "                indexs_captured.add(ny)\n",
    "\n",
    "matrix_dist"
   ]
  },
  {
   "cell_type": "code",
   "execution_count": 6,
   "metadata": {},
   "outputs": [
    {
     "data": {
      "text/plain": [
       "{'aaa': ['aaac'], 'bbb': ['bbb ', 'bbbb']}"
      ]
     },
     "execution_count": 6,
     "metadata": {},
     "output_type": "execute_result"
    }
   ],
   "source": [
    "similar"
   ]
  },
  {
   "cell_type": "code",
   "execution_count": 7,
   "metadata": {},
   "outputs": [
    {
     "name": "stdout",
     "output_type": "stream",
     "text": [
      "('aaa', ['aaac'])\n",
      "('bbb', ['bbb ', 'bbbb'])\n"
     ]
    },
    {
     "data": {
      "text/plain": [
       "{'aaac': 'aaa', 'bbb ': 'bbb', 'bbbb': 'bbb'}"
      ]
     },
     "execution_count": 7,
     "metadata": {},
     "output_type": "execute_result"
    }
   ],
   "source": [
    "# revert the dict\n",
    "replacer_dict = {}\n",
    "\n",
    "for d in similar.items():\n",
    "    print(d)\n",
    "    if type(d[1])==list:\n",
    "        for elem in d[1]:\n",
    "            replacer_dict[elem] = d[0]\n",
    "    else:\n",
    "        replacer_dict[d[1]] = d[0]\n",
    "replacer_dict"
   ]
  },
  {
   "cell_type": "code",
   "execution_count": 8,
   "metadata": {},
   "outputs": [
    {
     "data": {
      "text/plain": [
       "0    aaa\n",
       "1    bbb\n",
       "2    aaa\n",
       "3    bbb\n",
       "4    bbb\n",
       "Name: a, dtype: object"
      ]
     },
     "execution_count": 8,
     "metadata": {},
     "output_type": "execute_result"
    }
   ],
   "source": [
    "df = pd.DataFrame({'a':[\"aaa\", \"bbb\", \"aaac\", \"bbbb\", \"bbb \"]})\n",
    "df[\"a\"].replace(replacer_dict)"
   ]
  },
  {
   "cell_type": "code",
   "execution_count": null,
   "metadata": {},
   "outputs": [],
   "source": []
  },
  {
   "cell_type": "code",
   "execution_count": 9,
   "metadata": {},
   "outputs": [
    {
     "data": {
      "text/html": [
       "<div>\n",
       "<style scoped>\n",
       "    .dataframe tbody tr th:only-of-type {\n",
       "        vertical-align: middle;\n",
       "    }\n",
       "\n",
       "    .dataframe tbody tr th {\n",
       "        vertical-align: top;\n",
       "    }\n",
       "\n",
       "    .dataframe thead th {\n",
       "        text-align: right;\n",
       "    }\n",
       "</style>\n",
       "<table border=\"1\" class=\"dataframe\">\n",
       "  <thead>\n",
       "    <tr style=\"text-align: right;\">\n",
       "      <th></th>\n",
       "      <th>Name</th>\n",
       "      <th>Age</th>\n",
       "      <th>City</th>\n",
       "    </tr>\n",
       "  </thead>\n",
       "  <tbody>\n",
       "    <tr>\n",
       "      <th>0</th>\n",
       "      <td>John</td>\n",
       "      <td>25</td>\n",
       "      <td>New York</td>\n",
       "    </tr>\n",
       "    <tr>\n",
       "      <th>1</th>\n",
       "      <td>Alice</td>\n",
       "      <td>30</td>\n",
       "      <td>Paris</td>\n",
       "    </tr>\n",
       "    <tr>\n",
       "      <th>2</th>\n",
       "      <td>Bob</td>\n",
       "      <td>35</td>\n",
       "      <td>London</td>\n",
       "    </tr>\n",
       "    <tr>\n",
       "      <th>3</th>\n",
       "      <td>Emma</td>\n",
       "      <td>28</td>\n",
       "      <td>Sydney</td>\n",
       "    </tr>\n",
       "    <tr>\n",
       "      <th>4</th>\n",
       "      <td>Mike</td>\n",
       "      <td>32</td>\n",
       "      <td>Tokyo</td>\n",
       "    </tr>\n",
       "    <tr>\n",
       "      <th>5</th>\n",
       "      <td>Sarah</td>\n",
       "      <td>27</td>\n",
       "      <td>Berlin</td>\n",
       "    </tr>\n",
       "    <tr>\n",
       "      <th>6</th>\n",
       "      <td>David</td>\n",
       "      <td>40</td>\n",
       "      <td>Rome</td>\n",
       "    </tr>\n",
       "    <tr>\n",
       "      <th>7</th>\n",
       "      <td>Linda</td>\n",
       "      <td>33</td>\n",
       "      <td>Madrid</td>\n",
       "    </tr>\n",
       "    <tr>\n",
       "      <th>8</th>\n",
       "      <td>Tom</td>\n",
       "      <td>29</td>\n",
       "      <td>New  York</td>\n",
       "    </tr>\n",
       "    <tr>\n",
       "      <th>9</th>\n",
       "      <td>Emily</td>\n",
       "      <td>31</td>\n",
       "      <td>Sidney</td>\n",
       "    </tr>\n",
       "  </tbody>\n",
       "</table>\n",
       "</div>"
      ],
      "text/plain": [
       "    Name  Age       City\n",
       "0   John   25   New York\n",
       "1  Alice   30      Paris\n",
       "2    Bob   35     London\n",
       "3   Emma   28     Sydney\n",
       "4   Mike   32      Tokyo\n",
       "5  Sarah   27     Berlin\n",
       "6  David   40       Rome\n",
       "7  Linda   33     Madrid\n",
       "8    Tom   29  New  York\n",
       "9  Emily   31     Sidney"
      ]
     },
     "execution_count": 9,
     "metadata": {},
     "output_type": "execute_result"
    }
   ],
   "source": [
    "# complete version:\n",
    "data = {'Name': ['John', 'Alice', 'Bob', 'Emma', 'Mike', 'Sarah', 'David', 'Linda', 'Tom', 'Emily'],\n",
    "        'Age': [25, 30, 35, 28, 32, 27, 40, 33, 29, 31],\n",
    "        'City': ['New York', 'Paris', 'London', 'Sydney', 'Tokyo', 'Berlin', 'Rome', 'Madrid', 'New  York', 'Sidney']}\n",
    "df = pd.DataFrame(data)\n",
    "df"
   ]
  },
  {
   "cell_type": "code",
   "execution_count": 10,
   "metadata": {},
   "outputs": [
    {
     "data": {
      "text/plain": [
       "['New York',\n",
       " 'Paris',\n",
       " 'London',\n",
       " 'Sydney',\n",
       " 'Tokyo',\n",
       " 'Berlin',\n",
       " 'Rome',\n",
       " 'Madrid',\n",
       " 'New  York',\n",
       " 'Sidney']"
      ]
     },
     "execution_count": 10,
     "metadata": {},
     "output_type": "execute_result"
    }
   ],
   "source": [
    "l = list(df[\"City\"].unique())\n",
    "l"
   ]
  },
  {
   "cell_type": "code",
   "execution_count": 11,
   "metadata": {},
   "outputs": [],
   "source": [
    "matrix_dist = np.zeros((len(l), len(l),), dtype=np.float16 )\n",
    "for nx, x in enumerate(l):\n",
    "    for ny, y in enumerate(l):\n",
    "        matrix_dist[nx][ny] = ratio(x, y)"
   ]
  },
  {
   "cell_type": "code",
   "execution_count": 29,
   "metadata": {},
   "outputs": [
    {
     "data": {
      "text/plain": [
       "array([[1.    , 0.1538, 0.1428, 0.1428, 0.3076, 0.2856, 0.1666, 0.1428,\n",
       "        0.9414, 0.1428],\n",
       "       [0.1538, 1.    , 0.    , 0.    , 0.    , 0.3635, 0.    , 0.5454,\n",
       "        0.1428, 0.1818],\n",
       "       [0.1428, 0.    , 1.    , 0.3333, 0.3635, 0.1666, 0.2   , 0.1666,\n",
       "        0.1333, 0.3333],\n",
       "       [0.1428, 0.    , 0.3333, 1.    , 0.1818, 0.1666, 0.2   , 0.1666,\n",
       "        0.1333, 0.8335],\n",
       "       [0.3076, 0.    , 0.3635, 0.1818, 1.    , 0.    , 0.2222, 0.    ,\n",
       "        0.2856, 0.1818],\n",
       "       [0.2856, 0.3635, 0.1666, 0.1666, 0.    , 1.    , 0.2   , 0.3333,\n",
       "        0.2666, 0.3333],\n",
       "       [0.1666, 0.    , 0.2   , 0.2   , 0.2222, 0.2   , 1.    , 0.    ,\n",
       "        0.1538, 0.2   ],\n",
       "       [0.1428, 0.5454, 0.1666, 0.1666, 0.    , 0.3333, 0.    , 1.    ,\n",
       "        0.1333, 0.3333],\n",
       "       [0.9414, 0.1428, 0.1333, 0.1333, 0.2856, 0.2666, 0.1538, 0.1333,\n",
       "        1.    , 0.1333],\n",
       "       [0.1428, 0.1818, 0.3333, 0.8335, 0.1818, 0.3333, 0.2   , 0.3333,\n",
       "        0.1333, 1.    ]], dtype=float16)"
      ]
     },
     "execution_count": 29,
     "metadata": {},
     "output_type": "execute_result"
    }
   ],
   "source": [
    "matrix_dist"
   ]
  },
  {
   "cell_type": "code",
   "execution_count": 32,
   "metadata": {},
   "outputs": [
    {
     "data": {
      "image/png": "[encoded data removed]",
      "text/plain": [
       "<Figure size 432x288 with 2 Axes>"
      ]
     },
     "metadata": {
      "needs_background": "light"
     },
     "output_type": "display_data"
    }
   ],
   "source": [
    "import seaborn as sns\n",
    "import matplotlib.pylab as plt\n",
    "\n",
    "ax = sns.heatmap(matrix_dist, linewidth=0.5)\n",
    "plt.show()"
   ]
  },
  {
   "cell_type": "code",
   "execution_count": 43,
   "metadata": {},
   "outputs": [
    {
     "name": "stdout",
     "output_type": "stream",
     "text": [
      "For the word: New York (array([7], dtype=int64),)\n",
      "For the word: Paris (array([0], dtype=int64),)\n",
      "For the word: London (array([1], dtype=int64),)\n",
      "For the word: Sydney (array([2, 8], dtype=int64),)\n",
      "For the word: Tokyo (array([3], dtype=int64),)\n",
      "For the word: Berlin (array([4], dtype=int64),)\n",
      "For the word: Rome (array([5], dtype=int64),)\n",
      "For the word: Madrid (array([6], dtype=int64),)\n",
      "For the word: New  York (array([7], dtype=int64),)\n",
      "For the word: Sidney (array([2, 8], dtype=int64),)\n"
     ]
    }
   ],
   "source": [
    "# extract similarities for a word\n",
    "for nx, x in enumerate(l):\n",
    "    print(\"For the word:\", x, np.where((matrix_dist[nx]>0.6)))"
   ]
  },
  {
   "cell_type": "code",
   "execution_count": 70,
   "metadata": {},
   "outputs": [
    {
     "name": "stdout",
     "output_type": "stream",
     "text": [
      "For the word: New York ['New  York']\n",
      "For the word: Paris []\n",
      "For the word: London []\n",
      "For the word: Sydney ['Sidney']\n",
      "For the word: Tokyo []\n",
      "For the word: Berlin []\n",
      "For the word: Rome []\n",
      "For the word: Madrid []\n",
      "For the word: New  York ['New York']\n",
      "For the word: Sidney ['Sydney']\n"
     ]
    }
   ],
   "source": [
    "# extract similarities for a word\n",
    "for nx, x in enumerate(l):\n",
    "    print(\"For the word:\", x, [l[elem] for elem in np.where((matrix_dist[nx]>0.6))[0].tolist() if elem!= nx])"
   ]
  },
  {
   "cell_type": "code",
   "execution_count": 66,
   "metadata": {},
   "outputs": [
    {
     "data": {
      "text/plain": [
       "['New York', 'New  York']"
      ]
     },
     "execution_count": 66,
     "metadata": {},
     "output_type": "execute_result"
    }
   ],
   "source": [
    "[l[elem] for elem in np.where((matrix_dist[0]>0.6))[0].tolist()]"
   ]
  },
  {
   "cell_type": "code",
   "execution_count": null,
   "metadata": {},
   "outputs": [],
   "source": [
    "already_merge_indexes = []"
   ]
  },
  {
   "cell_type": "code",
   "execution_count": 74,
   "metadata": {},
   "outputs": [
    {
     "data": {
      "text/plain": [
       "{'New York': '', 'New  York': ''}"
      ]
     },
     "execution_count": 74,
     "metadata": {},
     "output_type": "execute_result"
    }
   ],
   "source": [
    "value_to_replace=\"\"\n",
    "nx=0\n",
    "{value:value_to_replace for value in [l[elem] for elem in np.where((matrix_dist[nx]>0.6))[0].tolist()]}"
   ]
  },
  {
   "cell_type": "code",
   "execution_count": 73,
   "metadata": {},
   "outputs": [
    {
     "data": {
      "text/plain": [
       "0     New York\n",
       "1        Paris\n",
       "2       London\n",
       "3       Sydney\n",
       "4        Tokyo\n",
       "5       Berlin\n",
       "6         Rome\n",
       "7       Madrid\n",
       "8    New  York\n",
       "9       Sidney\n",
       "Name: City, dtype: object"
      ]
     },
     "execution_count": 73,
     "metadata": {},
     "output_type": "execute_result"
    }
   ],
   "source": [
    "# replacing the similar tags \n",
    "df[\"City\"].replace({ 'Medium' : 2, 'Small' : 1, 'High' : 3 })"
   ]
  },
  {
   "cell_type": "markdown",
   "metadata": {},
   "source": [
    "# Dictionary file method"
   ]
  },
  {
   "attachments": {},
   "cell_type": "markdown",
   "metadata": {},
   "source": [
    "For larger unique label numbers. Longer, but resource friendly"
   ]
  },
  {
   "attachments": {},
   "cell_type": "markdown",
   "metadata": {},
   "source": [
    "### Load/save support functions"
   ]
  },
  {
   "cell_type": "code",
   "execution_count": 18,
   "metadata": {},
   "outputs": [],
   "source": [
    "similar_labels = {}\n",
    "#similar_low = {}\n",
    "indexs_captured = set()"
   ]
  },
  {
   "cell_type": "code",
   "execution_count": 12,
   "metadata": {},
   "outputs": [
    {
     "name": "stdout",
     "output_type": "stream",
     "text": [
      "Recovering dicts...\n"
     ]
    }
   ],
   "source": [
    "# recover the data variables from files. EXECTUTE ONLY IF THE FILE EXISTS!!! \n",
    "import json\n",
    "print(\"Recovering dicts...\")\n",
    "\n",
    "\n",
    "\n",
    "# Open the file for reading\n",
    "with open(\"similar_labels.txt\", \"r\") as fc:\n",
    "    # Load the dictionary from the file\n",
    "    similar_labels = json.load(fc)\n",
    "\n",
    "\n",
    "# Open the file for reading\n",
    "#with open(\"similar_low.txt\", \"r\") as fp:\n",
    "    # Load the dictionary from the file\n",
    "#    similar_low = json.load(fp)\n",
    "\n",
    "indexs_captured_test = []\n",
    "\n",
    "# open file and read the content in a list\n",
    "with open('indexs_captured.txt', 'r') as fp:\n",
    "    for line in fp:\n",
    "        # remove linebreak from a current name\n",
    "        # linebreak is the last character of each line\n",
    "        x = int(line[:-1])\n",
    "\n",
    "        # add current item to the list\n",
    "        indexs_captured_test.append(x)\n",
    "\n",
    "indexs_captured = set(indexs_captured_test)"
   ]
  },
  {
   "cell_type": "code",
   "execution_count": null,
   "metadata": {},
   "outputs": [],
   "source": [
    "print(len(similar_labels_lst))\n",
    "print(len(indexs_captured))"
   ]
  },
  {
   "cell_type": "code",
   "execution_count": null,
   "metadata": {},
   "outputs": [],
   "source": [
    "# data sample\n",
    "df = pd.DataFrame(data)"
   ]
  },
  {
   "cell_type": "code",
   "execution_count": 22,
   "metadata": {},
   "outputs": [
    {
     "name": "stdout",
     "output_type": "stream",
     "text": [
      "10 \n",
      "\n",
      "0\n",
      "sugested changes: 2\n"
     ]
    }
   ],
   "source": [
    "# Execute only to create the dict to replace\n",
    "labels_lst = list(df[\"City\"].unique())\n",
    "print(len(labels_lst), \"\\n\")\n",
    "\n",
    "# change the index if executed on epochs\n",
    "for nx in range(0, len(labels_lst)):\n",
    "    if nx%5000 ==0:\n",
    "        print(nx)\n",
    "    if nx%250000==0 and nx!=0:\n",
    "        print(\"Stopping!\")\n",
    "        break\n",
    "    for ny in range(nx+1, len(labels_lst)):\n",
    "\n",
    "        if ny not in indexs_captured and nx not in indexs_captured:\n",
    "\n",
    "            r = ratio(labels_lst[nx], labels_lst[ny])\n",
    "\n",
    "            # if the work is long, it must be increased\n",
    "            THRESHOLD = 0.82 if len(labels_lst[nx])<41 else 0.92\n",
    "\n",
    "            #if r>=0.87 and r<0.89:\n",
    "            #    similar_low[labels_lst[nx]] = [labels_lst[ny]] + similar_low.get(labels_lst[nx], [])\n",
    "            #    #indexs_captured.add(ny)\n",
    "\n",
    "            if r>=THRESHOLD:\n",
    "                similar_labels[labels_lst[nx]] = [labels_lst[ny]] + similar_labels.get(labels_lst[nx], [])\n",
    "                indexs_captured.add(ny)\n",
    "    #indexs_captured.add(nx)\n",
    "                \n",
    "print(\"sugested changes:\", len(similar_labels))"
   ]
  },
  {
   "cell_type": "code",
   "execution_count": 23,
   "metadata": {},
   "outputs": [
    {
     "data": {
      "text/plain": [
       "{'New York': ['New  York'], 'Sydney': ['Sidney']}"
      ]
     },
     "execution_count": 23,
     "metadata": {},
     "output_type": "execute_result"
    }
   ],
   "source": [
    "similar_labels"
   ]
  },
  {
   "cell_type": "code",
   "execution_count": null,
   "metadata": {},
   "outputs": [],
   "source": [
    "#save the variables into files. Execute after the procesing to save the variables for later as last step.\n",
    "import json\n",
    "\n",
    "print('Facilitys dictionary')\n",
    "\n",
    "print(\"Started writing dictionary to a file\")\n",
    "with open(\"similar_labels.txt\", \"w\") as fp:\n",
    "    json.dump(similar_labels, fp)  # encode dict into JSON\n",
    "print(\"Done writing dict into .txt file\")\n",
    "\n",
    "#print('similar_low dictionary')\n",
    "\n",
    "#print(\"Started writing dictionary to a file\")\n",
    "#with open(\"similar_low.txt\", \"w\") as fp:\n",
    "#    json.dump(similar_low, fp)  # encode dict into JSON\n",
    "#print(\"Done writing dict into .txt file\")\n",
    "\n",
    "# list of names\n",
    "with open('indexs_captured.txt', 'w') as fp:\n",
    "    for item in list(indexs_captured):\n",
    "        # write each item on a new line\n",
    "        fp.write(\"%s\\n\" % item)\n",
    "    print('Done writing list')"
   ]
  },
  {
   "cell_type": "code",
   "execution_count": null,
   "metadata": {},
   "outputs": [],
   "source": []
  },
  {
   "cell_type": "code",
   "execution_count": 24,
   "metadata": {},
   "outputs": [],
   "source": [
    "df_clean = df.copy()"
   ]
  },
  {
   "cell_type": "code",
   "execution_count": 25,
   "metadata": {},
   "outputs": [
    {
     "data": {
      "text/html": [
       "<div>\n",
       "<style scoped>\n",
       "    .dataframe tbody tr th:only-of-type {\n",
       "        vertical-align: middle;\n",
       "    }\n",
       "\n",
       "    .dataframe tbody tr th {\n",
       "        vertical-align: top;\n",
       "    }\n",
       "\n",
       "    .dataframe thead th {\n",
       "        text-align: right;\n",
       "    }\n",
       "</style>\n",
       "<table border=\"1\" class=\"dataframe\">\n",
       "  <thead>\n",
       "    <tr style=\"text-align: right;\">\n",
       "      <th></th>\n",
       "      <th>Name</th>\n",
       "      <th>Age</th>\n",
       "      <th>City</th>\n",
       "      <th>labels_clean</th>\n",
       "    </tr>\n",
       "  </thead>\n",
       "  <tbody>\n",
       "    <tr>\n",
       "      <th>0</th>\n",
       "      <td>John</td>\n",
       "      <td>25</td>\n",
       "      <td>New York</td>\n",
       "      <td>New York</td>\n",
       "    </tr>\n",
       "    <tr>\n",
       "      <th>1</th>\n",
       "      <td>Alice</td>\n",
       "      <td>30</td>\n",
       "      <td>Paris</td>\n",
       "      <td>Paris</td>\n",
       "    </tr>\n",
       "    <tr>\n",
       "      <th>2</th>\n",
       "      <td>Bob</td>\n",
       "      <td>35</td>\n",
       "      <td>London</td>\n",
       "      <td>London</td>\n",
       "    </tr>\n",
       "    <tr>\n",
       "      <th>3</th>\n",
       "      <td>Emma</td>\n",
       "      <td>28</td>\n",
       "      <td>Sydney</td>\n",
       "      <td>Sydney</td>\n",
       "    </tr>\n",
       "    <tr>\n",
       "      <th>4</th>\n",
       "      <td>Mike</td>\n",
       "      <td>32</td>\n",
       "      <td>Tokyo</td>\n",
       "      <td>Tokyo</td>\n",
       "    </tr>\n",
       "    <tr>\n",
       "      <th>5</th>\n",
       "      <td>Sarah</td>\n",
       "      <td>27</td>\n",
       "      <td>Berlin</td>\n",
       "      <td>Berlin</td>\n",
       "    </tr>\n",
       "    <tr>\n",
       "      <th>6</th>\n",
       "      <td>David</td>\n",
       "      <td>40</td>\n",
       "      <td>Rome</td>\n",
       "      <td>Rome</td>\n",
       "    </tr>\n",
       "    <tr>\n",
       "      <th>7</th>\n",
       "      <td>Linda</td>\n",
       "      <td>33</td>\n",
       "      <td>Madrid</td>\n",
       "      <td>Madrid</td>\n",
       "    </tr>\n",
       "    <tr>\n",
       "      <th>8</th>\n",
       "      <td>Tom</td>\n",
       "      <td>29</td>\n",
       "      <td>New  York</td>\n",
       "      <td>New York</td>\n",
       "    </tr>\n",
       "    <tr>\n",
       "      <th>9</th>\n",
       "      <td>Emily</td>\n",
       "      <td>31</td>\n",
       "      <td>Sidney</td>\n",
       "      <td>Sydney</td>\n",
       "    </tr>\n",
       "  </tbody>\n",
       "</table>\n",
       "</div>"
      ],
      "text/plain": [
       "    Name  Age       City labels_clean\n",
       "0   John   25   New York     New York\n",
       "1  Alice   30      Paris        Paris\n",
       "2    Bob   35     London       London\n",
       "3   Emma   28     Sydney       Sydney\n",
       "4   Mike   32      Tokyo        Tokyo\n",
       "5  Sarah   27     Berlin       Berlin\n",
       "6  David   40       Rome         Rome\n",
       "7  Linda   33     Madrid       Madrid\n",
       "8    Tom   29  New  York     New York\n",
       "9  Emily   31     Sidney       Sydney"
      ]
     },
     "execution_count": 25,
     "metadata": {},
     "output_type": "execute_result"
    }
   ],
   "source": [
    "# turn arround the dict to be able to replace the dataframe\n",
    "replacer_dict_labels = {}\n",
    "\n",
    "for d in similar_labels.items():\n",
    "    if type(d[1])==list:\n",
    "        for elem in d[1]:\n",
    "            replacer_dict_labels[elem] = d[0]\n",
    "    else:\n",
    "        replacer_dict_labels[d[1]] = d[0]\n",
    "\n",
    "\n",
    "df_clean[\"labels_clean\"] = df_clean[\"City\"].replace(replacer_dict_labels)\n",
    "df_clean"
   ]
  },
  {
   "cell_type": "code",
   "execution_count": 30,
   "metadata": {},
   "outputs": [],
   "source": [
    "# join the changed to the general df\n",
    "repeted_faci = df_clean[df_clean[\"labels_clean\"]!=df_clean[\"City\"]].drop_duplicates([\"Name\", \"labels_clean\"]).groupby([\"labels_clean\"]).filter(lambda x: len(x) > 1)\n",
    "repeted_faci[\"change_to_revert\"] = 1\n",
    "\n",
    "df_clean3 = df_clean.merge(repeted_faci[[\"Name\", \"City\", \"labels_clean\", \"change_to_revert\"]], how=\"left\", \n",
    "                            left_on=[\"Name\", \"City\", \"labels_clean\"], \n",
    "                            right_on = [\"Name\", \"City\", \"labels_clean\"])\n",
    "\n",
    "\n",
    "def label_facilicity(row):\n",
    "    if row['change_to_revert'] == 1:\n",
    "      return row['City']\n",
    "    \n",
    "    return row['labels_clean']\n",
    "\n",
    "\n",
    "df_clean3[\"City_final\"] = df_clean3.apply(label_facilicity, axis=1)\n",
    "df_clean3.drop('change_to_revert', axis=1, inplace=True)"
   ]
  },
  {
   "cell_type": "code",
   "execution_count": 31,
   "metadata": {},
   "outputs": [
    {
     "data": {
      "text/html": [
       "<div>\n",
       "<style scoped>\n",
       "    .dataframe tbody tr th:only-of-type {\n",
       "        vertical-align: middle;\n",
       "    }\n",
       "\n",
       "    .dataframe tbody tr th {\n",
       "        vertical-align: top;\n",
       "    }\n",
       "\n",
       "    .dataframe thead th {\n",
       "        text-align: right;\n",
       "    }\n",
       "</style>\n",
       "<table border=\"1\" class=\"dataframe\">\n",
       "  <thead>\n",
       "    <tr style=\"text-align: right;\">\n",
       "      <th></th>\n",
       "      <th>Name</th>\n",
       "      <th>Age</th>\n",
       "      <th>City</th>\n",
       "      <th>labels_clean</th>\n",
       "      <th>change_to_revert</th>\n",
       "    </tr>\n",
       "  </thead>\n",
       "  <tbody>\n",
       "  </tbody>\n",
       "</table>\n",
       "</div>"
      ],
      "text/plain": [
       "Empty DataFrame\n",
       "Columns: [Name, Age, City, labels_clean, change_to_revert]\n",
       "Index: []"
      ]
     },
     "execution_count": 31,
     "metadata": {},
     "output_type": "execute_result"
    }
   ],
   "source": [
    "# no repetitions\n",
    "repeted_faci"
   ]
  },
  {
   "cell_type": "code",
   "execution_count": 34,
   "metadata": {},
   "outputs": [
    {
     "data": {
      "text/html": [
       "<div>\n",
       "<style scoped>\n",
       "    .dataframe tbody tr th:only-of-type {\n",
       "        vertical-align: middle;\n",
       "    }\n",
       "\n",
       "    .dataframe tbody tr th {\n",
       "        vertical-align: top;\n",
       "    }\n",
       "\n",
       "    .dataframe thead th {\n",
       "        text-align: right;\n",
       "    }\n",
       "</style>\n",
       "<table border=\"1\" class=\"dataframe\">\n",
       "  <thead>\n",
       "    <tr style=\"text-align: right;\">\n",
       "      <th></th>\n",
       "      <th>Name</th>\n",
       "      <th>Age</th>\n",
       "      <th>City</th>\n",
       "      <th>labels_clean</th>\n",
       "      <th>City_final</th>\n",
       "    </tr>\n",
       "  </thead>\n",
       "  <tbody>\n",
       "    <tr>\n",
       "      <th>0</th>\n",
       "      <td>John</td>\n",
       "      <td>25</td>\n",
       "      <td>New York</td>\n",
       "      <td>New York</td>\n",
       "      <td>New York</td>\n",
       "    </tr>\n",
       "    <tr>\n",
       "      <th>1</th>\n",
       "      <td>Alice</td>\n",
       "      <td>30</td>\n",
       "      <td>Paris</td>\n",
       "      <td>Paris</td>\n",
       "      <td>Paris</td>\n",
       "    </tr>\n",
       "    <tr>\n",
       "      <th>2</th>\n",
       "      <td>Bob</td>\n",
       "      <td>35</td>\n",
       "      <td>London</td>\n",
       "      <td>London</td>\n",
       "      <td>London</td>\n",
       "    </tr>\n",
       "    <tr>\n",
       "      <th>3</th>\n",
       "      <td>Emma</td>\n",
       "      <td>28</td>\n",
       "      <td>Sydney</td>\n",
       "      <td>Sydney</td>\n",
       "      <td>Sydney</td>\n",
       "    </tr>\n",
       "    <tr>\n",
       "      <th>4</th>\n",
       "      <td>Mike</td>\n",
       "      <td>32</td>\n",
       "      <td>Tokyo</td>\n",
       "      <td>Tokyo</td>\n",
       "      <td>Tokyo</td>\n",
       "    </tr>\n",
       "    <tr>\n",
       "      <th>5</th>\n",
       "      <td>Sarah</td>\n",
       "      <td>27</td>\n",
       "      <td>Berlin</td>\n",
       "      <td>Berlin</td>\n",
       "      <td>Berlin</td>\n",
       "    </tr>\n",
       "    <tr>\n",
       "      <th>6</th>\n",
       "      <td>David</td>\n",
       "      <td>40</td>\n",
       "      <td>Rome</td>\n",
       "      <td>Rome</td>\n",
       "      <td>Rome</td>\n",
       "    </tr>\n",
       "    <tr>\n",
       "      <th>7</th>\n",
       "      <td>Linda</td>\n",
       "      <td>33</td>\n",
       "      <td>Madrid</td>\n",
       "      <td>Madrid</td>\n",
       "      <td>Madrid</td>\n",
       "    </tr>\n",
       "    <tr>\n",
       "      <th>8</th>\n",
       "      <td>Tom</td>\n",
       "      <td>29</td>\n",
       "      <td>New  York</td>\n",
       "      <td>New York</td>\n",
       "      <td>New York</td>\n",
       "    </tr>\n",
       "    <tr>\n",
       "      <th>9</th>\n",
       "      <td>Emily</td>\n",
       "      <td>31</td>\n",
       "      <td>Sidney</td>\n",
       "      <td>Sydney</td>\n",
       "      <td>Sydney</td>\n",
       "    </tr>\n",
       "  </tbody>\n",
       "</table>\n",
       "</div>"
      ],
      "text/plain": [
       "    Name  Age       City labels_clean City_final\n",
       "0   John   25   New York     New York   New York\n",
       "1  Alice   30      Paris        Paris      Paris\n",
       "2    Bob   35     London       London     London\n",
       "3   Emma   28     Sydney       Sydney     Sydney\n",
       "4   Mike   32      Tokyo        Tokyo      Tokyo\n",
       "5  Sarah   27     Berlin       Berlin     Berlin\n",
       "6  David   40       Rome         Rome       Rome\n",
       "7  Linda   33     Madrid       Madrid     Madrid\n",
       "8    Tom   29  New  York     New York   New York\n",
       "9  Emily   31     Sidney       Sydney     Sydney"
      ]
     },
     "execution_count": 34,
     "metadata": {},
     "output_type": "execute_result"
    }
   ],
   "source": [
    "df_clean3"
   ]
  },
  {
   "cell_type": "code",
   "execution_count": null,
   "metadata": {},
   "outputs": [],
   "source": []
  }
 ],
 "metadata": {
  "kernelspec": {
   "display_name": "Python 3",
   "language": "python",
   "name": "python3"
  },
  "language_info": {
   "codemirror_mode": {
    "name": "ipython",
    "version": 3
   },
   "file_extension": ".py",
   "mimetype": "text/x-python",
   "name": "python",
   "nbconvert_exporter": "python",
   "pygments_lexer": "ipython3",
   "version": "3.9.11"
  },
  "orig_nbformat": 4,
  "vscode": {
   "interpreter": {
    "hash": "8f144b07f53539e70a668c8fd2097090d527e7eb12a24ffad3aeec7a3658774b"
   }
  }
 },
 "nbformat": 4,
 "nbformat_minor": 2
}
